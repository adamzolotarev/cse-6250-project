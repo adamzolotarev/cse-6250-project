{
 "cells": [
  {
   "cell_type": "code",
   "execution_count": 2,
   "metadata": {
    "collapsed": true
   },
   "outputs": [],
   "source": [
    "import sys\n",
    "sys.path.append('../')\n",
    "import numpy as np\n",
    "import pandas as pd\n",
    "\n",
    "from collections import Counter, defaultdict\n",
    "import csv\n",
    "import math\n",
    "import operator"
   ]
  },
  {
   "cell_type": "code",
   "execution_count": 9,
   "metadata": {},
   "outputs": [
    {
     "name": "stdout",
     "output_type": "stream",
     "text": [
      "   SUBJECT_ID  HADM_ID  CHARTTIME  \\\n",
      "0           3   145834        NaN   \n",
      "1           4   185777        NaN   \n",
      "2           6   107064        NaN   \n",
      "3           9   150750        NaN   \n",
      "4           9   150750        NaN   \n",
      "\n",
      "                                                TEXT  \n",
      "0  admission date discharge date date of birth se...  \n",
      "1  admission date discharge date date of birth se...  \n",
      "2  admission date discharge date date of birth se...  \n",
      "3  admission date discharge date date of birth se...  \n",
      "4  name known lastname known firstname unit no nu...  \n",
      "0    admission date discharge date date of birth se...\n",
      "1    admission date discharge date date of birth se...\n",
      "2    admission date discharge date date of birth se...\n",
      "3    admission date discharge date date of birth se...\n",
      "4    name known lastname known firstname unit no nu...\n",
      "Name: TEXT, dtype: object\n"
     ]
    }
   ],
   "source": [
    "\n",
    "df_disch = pd.read_csv('../data/disch_full.csv')\n",
    "print(df_disch.head())\n",
    "\n",
    "df_disch['TEXT'] = df_disch['TEXT'].astype(str)\n",
    "print(df_disch['TEXT'].head())"
   ]
  },
  {
   "cell_type": "code",
   "execution_count": 10,
   "metadata": {},
   "outputs": [],
   "source": [
    "df_disch['WORD_LIST'] = df_disch['TEXT'].map(lambda x: x.split(' '))"
   ]
  },
  {
   "cell_type": "code",
   "execution_count": 11,
   "metadata": {},
   "outputs": [
    {
     "data": {
      "text/plain": [
       "count    59652.000000\n",
       "mean      1337.782254\n",
       "std        771.722565\n",
       "min          9.000000\n",
       "25%        812.000000\n",
       "50%       1239.000000\n",
       "75%       1758.000000\n",
       "max       7504.000000\n",
       "Name: LENGTH_TOTAL, dtype: float64"
      ]
     },
     "execution_count": 11,
     "metadata": {},
     "output_type": "execute_result"
    }
   ],
   "source": [
    "df_disch['LENGTH_TOTAL'] = df_disch['WORD_LIST'].map(lambda x: len(x))\n",
    "df_disch['LENGTH_TOTAL'].describe()"
   ]
  },
  {
   "cell_type": "code",
   "execution_count": 23,
   "metadata": {},
   "outputs": [
    {
     "name": "stdout",
     "output_type": "stream",
     "text": [
      "Total words:  79801387\n"
     ]
    },
    {
     "data": {
      "text/plain": [
       "the             2066842\n",
       "and             1814084\n",
       "to              1522448\n",
       "of              1521333\n",
       "was             1424494\n",
       "with            1085409\n",
       "a               1026574\n",
       "on               961521\n",
       "in               828777\n",
       "for              787471\n",
       "no               680199\n",
       "mg               640128\n",
       "tablet           594136\n",
       "patient          587589\n",
       "is               575022\n",
       "he               491125\n",
       "at               455305\n",
       "blood            453243\n",
       "name             449560\n",
       "po               446573\n",
       "she              415872\n",
       "discharge        413836\n",
       "or               413732\n",
       "s                395540\n",
       "as               391345\n",
       "day              384839\n",
       "daily            371987\n",
       "sig              359439\n",
       "one              346141\n",
       "his              331047\n",
       "                 ...   \n",
       "tranct                1\n",
       "supplmeent            1\n",
       "transfewrred          1\n",
       "notary                1\n",
       "b3a                   1\n",
       "20354f                1\n",
       "permidri              1\n",
       "apponitment           1\n",
       "nutrution             1\n",
       "anyhwere              1\n",
       "kcalories             1\n",
       "oxprenolol            1\n",
       "balkan                1\n",
       "detorioted            1\n",
       "melodies              1\n",
       "dontinued             1\n",
       "worksite              1\n",
       "irratic               1\n",
       "cutback               1\n",
       "ipslateral            1\n",
       "discribes             1\n",
       "ahv                   1\n",
       "thinnings             1\n",
       "decordicate           1\n",
       "gastroj               1\n",
       "fnding                1\n",
       "botanist              1\n",
       "deben                 1\n",
       "toothpick             1\n",
       "anterioform           1\n",
       "Length: 150854, dtype: int64"
      ]
     },
     "execution_count": 23,
     "metadata": {},
     "output_type": "execute_result"
    }
   ],
   "source": [
    "total =df_disch['LENGTH_TOTAL'].sum()\n",
    "print(\"Total words: \", total)\n",
    "\n",
    "most_popular = df_disch['WORD_LIST'].apply(pd.Series).stack().value_counts()\n",
    "most_popular\n"
   ]
  },
  {
   "cell_type": "code",
   "execution_count": 27,
   "metadata": {},
   "outputs": [],
   "source": [
    "# unique = pd.unique(df_disch['WORD_LIST'].values)\n",
    "\n",
    "df_disch['WORD_TUPLES'] = df_disch['WORD_LIST'].map(lambda x: tuple(x))\n",
    "\n",
    "\n",
    "# np.unique(df[['Col1', 'Col2']].values)\n"
   ]
  },
  {
   "cell_type": "code",
   "execution_count": 41,
   "metadata": {},
   "outputs": [],
   "source": [
    "# np.unique(df_disch[['WORD_TUPLES']].values)\n",
    "unique_ish = pd.unique(df_disch[['WORD_TUPLES']].values.ravel('K'))\n",
    "unique = set(unique_ish)"
   ]
  },
  {
   "cell_type": "code",
   "execution_count": 42,
   "metadata": {},
   "outputs": [
    {
     "name": "stdout",
     "output_type": "stream",
     "text": [
      "Unique 59483\n"
     ]
    }
   ],
   "source": [
    "print(\"Unique\", len(unique))"
   ]
  },
  {
   "cell_type": "code",
   "execution_count": null,
   "metadata": {
    "collapsed": true
   },
   "outputs": [],
   "source": []
  }
 ],
 "metadata": {
  "kernelspec": {
   "display_name": "Python 3",
   "language": "python",
   "name": "python3"
  },
  "language_info": {
   "codemirror_mode": {
    "name": "ipython",
    "version": 3
   },
   "file_extension": ".py",
   "mimetype": "text/x-python",
   "name": "python",
   "nbconvert_exporter": "python",
   "pygments_lexer": "ipython3",
   "version": "3.6.4"
  }
 },
 "nbformat": 4,
 "nbformat_minor": 2
}
